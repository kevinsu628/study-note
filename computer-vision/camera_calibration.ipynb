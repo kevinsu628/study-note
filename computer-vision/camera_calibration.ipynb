{
 "cells": [
  {
   "cell_type": "markdown",
   "metadata": {},
   "source": [
    "# Camera Calibration\n",
    "\n",
    "Estimates the parameters of a lens and image sensor of an image or video camera\n",
    "\n",
    "### usage \n",
    "You can use these parameters to correct for lens distortion, measure the size of an object in world units, or determine the location of the camera in the scene.\n",
    "\n",
    "### How\n",
    "Camera parameters include **intrinsics, extrinsics, and distortion coefficients**. To estimate the camera parameters, you need to have **3-D world points** and **their corresponding 2-D image points**. You can get these correspondences using multiple images of a calibration pattern, such as a checkerboard. Using the correspondences, you can solve for the camera parameters. "
   ]
  },
  {
   "cell_type": "markdown",
   "metadata": {},
   "source": [
    "### Focal length \n",
    "The size of the image relative to the distant object is given by focal length. "
   ]
  },
  {
   "cell_type": "code",
   "execution_count": null,
   "metadata": {},
   "outputs": [],
   "source": []
  }
 ],
 "metadata": {
  "kernelspec": {
   "display_name": "Python 3",
   "language": "python",
   "name": "python3"
  },
  "language_info": {
   "codemirror_mode": {
    "name": "ipython",
    "version": 3
   },
   "file_extension": ".py",
   "mimetype": "text/x-python",
   "name": "python",
   "nbconvert_exporter": "python",
   "pygments_lexer": "ipython3",
   "version": "3.6.9"
  }
 },
 "nbformat": 4,
 "nbformat_minor": 2
}
