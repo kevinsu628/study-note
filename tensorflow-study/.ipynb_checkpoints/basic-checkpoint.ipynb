{
 "cells": [
  {
   "cell_type": "code",
   "execution_count": 1,
   "metadata": {},
   "outputs": [],
   "source": [
    "import tensorflow as tf"
   ]
  },
  {
   "cell_type": "markdown",
   "metadata": {},
   "source": [
    "### Lazy computing\n",
    "TensorFlow is a way of representing computation without actually performing it until asked\n",
    "\n",
    "### Computational Graph\n",
    "Graph: represents the data flow of the computation \n",
    "Session: it executes the operations in the graph \n",
    "\n",
    "When creating a graph, you are not bound to run the whole graph and can control the parts of the graph that are executed separately --> Provides flexibility \n",
    "\n",
    "### TensorBoard\n",
    "A visualization of the computational graph. \n",
    "\n",
    "### Tensor\n",
    "A data structure to represent all the data, like a function in python.\n",
    "**Any type of data used for the model can be stored in Tensors**"
   ]
  },
  {
   "cell_type": "code",
   "execution_count": 10,
   "metadata": {},
   "outputs": [
    {
     "name": "stdout",
     "output_type": "stream",
     "text": [
      "Tensor(\"Add_2:0\", shape=(), dtype=int32)\n"
     ]
    }
   ],
   "source": [
    "message = tf.constant('hello world')\n",
    "\n",
    "# this node creates two input nodes (for inputs a = 2 and b = 3), and 1 output node \n",
    "a = 2 # default tensor-name: x\n",
    "b = 3 # default tensor-name: y\n",
    "c = tf.add(a, b, name=\"Add\") # python-name c, tensor-name Add. \n",
    "\n",
    "# before passing to a session, the written code only generates the graph which only \n",
    "# determines the expected sizes of Tensors and operations to be executed on them. \n",
    "# It doesn't assign a numeric value to any of the Tensors \n",
    "print(c) # c is a tensor, its name is Add, shape () means scalar, type is 32 bit integer "
   ]
  },
  {
   "cell_type": "markdown",
   "metadata": {},
   "source": [
    "### Sessions\n",
    "A graph must be launched in a session to compute anyting. Session places the graph ops on hardware such as CPU or GPU. "
   ]
  },
  {
   "cell_type": "code",
   "execution_count": 13,
   "metadata": {},
   "outputs": [
    {
     "name": "stdout",
     "output_type": "stream",
     "text": [
      "[b'hello world', 5]\n"
     ]
    }
   ],
   "source": [
    "# create a session\n",
    "with tf.Session() as sess: #sess = tf.Sessions() \n",
    "    # invokes its run to run enough of the computational graph to evaluate c \n",
    "    # only run what's necessary to get the value of c \n",
    "    print(sess.run([message, c])) \n",
    "    sess.close()"
   ]
  },
  {
   "cell_type": "code",
   "execution_count": 12,
   "metadata": {},
   "outputs": [],
   "source": [
    "x = 2\n",
    "y = 3\n",
    "add_op = tf.add(x, y, name='Add')\n",
    "mul_op = tf.multiply(x, y, name='Multiply')\n",
    "pow_op = tf.pow(add_op, mul_op, name='Power')\n",
    "# Given this graph, if we fetch the pow_op operation, \n",
    "# it will first run the add_op and mul_op to get their output tensor and \n",
    "# then run pow_op on them to compute the required output value.\n",
    "useless_op = tf.multiply(x, add_op, name='Useless')\n",
    "\n",
    "# It helps running only the required operations of the graph and skip the rest (remember flexibility)\n",
    "with tf.Session() as sess:\n",
    "    pow_out, useless_out = sess.run([pow_op, useless_op])"
   ]
  },
  {
   "cell_type": "code",
   "execution_count": null,
   "metadata": {},
   "outputs": [],
   "source": []
  }
 ],
 "metadata": {
  "kernelspec": {
   "display_name": "Python 3",
   "language": "python",
   "name": "python3"
  },
  "language_info": {
   "codemirror_mode": {
    "name": "ipython",
    "version": 3
   },
   "file_extension": ".py",
   "mimetype": "text/x-python",
   "name": "python",
   "nbconvert_exporter": "python",
   "pygments_lexer": "ipython3",
   "version": "3.6.9"
  }
 },
 "nbformat": 4,
 "nbformat_minor": 2
}
